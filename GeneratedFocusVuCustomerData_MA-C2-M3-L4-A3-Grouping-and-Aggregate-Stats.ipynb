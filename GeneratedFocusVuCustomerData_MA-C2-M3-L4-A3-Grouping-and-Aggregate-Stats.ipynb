{
 "cells": [
  {
   "cell_type": "code",
   "execution_count": 1,
   "metadata": {},
   "outputs": [],
   "source": [
    "import pandas as pd\n",
    "import numpy as np"
   ]
  },
  {
   "cell_type": "code",
   "execution_count": 4,
   "metadata": {},
   "outputs": [],
   "source": [
    "subscriptionTiers = ['Free','Personal','Business']\n",
    "monthlyPrices = [0,5.99, 29.99]\n",
    "addOns = ['Security', 'Calendar','4k']\n",
    "addOnCosts = {'Security':2.99,\n",
    "              'Calendar':2.99,\n",
    "              '4k':7.99}\n",
    "industries = ['Education', 'Software', 'Marketing',\n",
    "              'Retail', 'Transporation', 'Sports&Entertainment',\n",
    "             'Hospitality', 'Medical','Agriculture']\n",
    "\n",
    "\n",
    "def generateUser(i):\n",
    "    subscriptionTier = subscriptionTiers[i]\n",
    "    monthlyBasePrice = monthlyPrices[i]\n",
    "    AddOn_security = np.random.choice([0,1], p=[.8,.2])\n",
    "    AddOn_calendar = np.random.choice([0,1], p=[.9,.1])\n",
    "    AddOn_4k = np.random.choice([0,1], p=[.9,.1])\n",
    "    totalCosts = monthlyBasePrice + 2.99* AddOn_security + 2.99*AddOn_calendar +7.99*AddOn_4k\n",
    "    industry = np.random.choice(industries)\n",
    "    return [subscriptionTier,\n",
    "monthlyBasePrice,\n",
    "AddOn_security,\n",
    "AddOn_calendar,\n",
    "AddOn_4k,\n",
    "totalCosts,\n",
    "industry]"
   ]
  },
  {
   "cell_type": "code",
   "execution_count": 6,
   "metadata": {},
   "outputs": [],
   "source": [
    "dataset = [generateUser(i) for i in np.random.choice([0,1,2],\n",
    "                                                     size=5*10**5,\n",
    "                                                    p=[.65,.25,.1])]          "
   ]
  },
  {
   "cell_type": "code",
   "execution_count": 8,
   "metadata": {},
   "outputs": [],
   "source": [
    "columns = [\"subscriptionTier\",\"monthlyBasePrice\",\"AddOn_security\",\n",
    "           \"AddOn_calendar\",\"AddOn_4k\",\"totalCosts\",\"industry\"]"
   ]
  },
  {
   "cell_type": "code",
   "execution_count": 32,
   "metadata": {},
   "outputs": [
    {
     "data": {
      "text/plain": [
       "'31745368'"
      ]
     },
     "execution_count": 32,
     "metadata": {},
     "output_type": "execute_result"
    }
   ],
   "source": [
    "\"\".join([str(x) for x in np.random.randint(1, 9,size=8)])"
   ]
  },
  {
   "cell_type": "code",
   "execution_count": 33,
   "metadata": {},
   "outputs": [
    {
     "data": {
      "text/plain": [
       "['42287537',\n",
       " '32254335',\n",
       " '14463186',\n",
       " '62471182',\n",
       " '57486614',\n",
       " '74118566',\n",
       " '47766162',\n",
       " '63136364',\n",
       " '18144856',\n",
       " '85384531']"
      ]
     },
     "execution_count": 33,
     "metadata": {},
     "output_type": "execute_result"
    }
   ],
   "source": [
    "[\"\".join([str(x) for x in np.random.randint(1, 9,size=8)]) for i in range(10)]"
   ]
  },
  {
   "cell_type": "code",
   "execution_count": 34,
   "metadata": {},
   "outputs": [
    {
     "data": {
      "text/html": [
       "<div>\n",
       "<style scoped>\n",
       "    .dataframe tbody tr th:only-of-type {\n",
       "        vertical-align: middle;\n",
       "    }\n",
       "\n",
       "    .dataframe tbody tr th {\n",
       "        vertical-align: top;\n",
       "    }\n",
       "\n",
       "    .dataframe thead th {\n",
       "        text-align: right;\n",
       "    }\n",
       "</style>\n",
       "<table border=\"1\" class=\"dataframe\">\n",
       "  <thead>\n",
       "    <tr style=\"text-align: right;\">\n",
       "      <th></th>\n",
       "      <th>subscriptionTier</th>\n",
       "      <th>monthlyBasePrice</th>\n",
       "      <th>AddOn_security</th>\n",
       "      <th>AddOn_calendar</th>\n",
       "      <th>AddOn_4k</th>\n",
       "      <th>totalCosts</th>\n",
       "      <th>industry</th>\n",
       "      <th>CustomerID</th>\n",
       "    </tr>\n",
       "  </thead>\n",
       "  <tbody>\n",
       "    <tr>\n",
       "      <td>0</td>\n",
       "      <td>Personal</td>\n",
       "      <td>5.99</td>\n",
       "      <td>0</td>\n",
       "      <td>0</td>\n",
       "      <td>0</td>\n",
       "      <td>5.99</td>\n",
       "      <td>Transporation</td>\n",
       "      <td>27344551</td>\n",
       "    </tr>\n",
       "    <tr>\n",
       "      <td>1</td>\n",
       "      <td>Free</td>\n",
       "      <td>0.00</td>\n",
       "      <td>0</td>\n",
       "      <td>0</td>\n",
       "      <td>0</td>\n",
       "      <td>0.00</td>\n",
       "      <td>Hospitality</td>\n",
       "      <td>71173642</td>\n",
       "    </tr>\n",
       "    <tr>\n",
       "      <td>2</td>\n",
       "      <td>Personal</td>\n",
       "      <td>5.99</td>\n",
       "      <td>0</td>\n",
       "      <td>0</td>\n",
       "      <td>0</td>\n",
       "      <td>5.99</td>\n",
       "      <td>Software</td>\n",
       "      <td>41222337</td>\n",
       "    </tr>\n",
       "    <tr>\n",
       "      <td>3</td>\n",
       "      <td>Free</td>\n",
       "      <td>0.00</td>\n",
       "      <td>0</td>\n",
       "      <td>0</td>\n",
       "      <td>0</td>\n",
       "      <td>0.00</td>\n",
       "      <td>Education</td>\n",
       "      <td>23653446</td>\n",
       "    </tr>\n",
       "    <tr>\n",
       "      <td>4</td>\n",
       "      <td>Personal</td>\n",
       "      <td>5.99</td>\n",
       "      <td>0</td>\n",
       "      <td>0</td>\n",
       "      <td>0</td>\n",
       "      <td>5.99</td>\n",
       "      <td>Agriculture</td>\n",
       "      <td>63771418</td>\n",
       "    </tr>\n",
       "    <tr>\n",
       "      <td>5</td>\n",
       "      <td>Business</td>\n",
       "      <td>29.99</td>\n",
       "      <td>0</td>\n",
       "      <td>0</td>\n",
       "      <td>0</td>\n",
       "      <td>29.99</td>\n",
       "      <td>Education</td>\n",
       "      <td>27266413</td>\n",
       "    </tr>\n",
       "    <tr>\n",
       "      <td>6</td>\n",
       "      <td>Personal</td>\n",
       "      <td>5.99</td>\n",
       "      <td>1</td>\n",
       "      <td>0</td>\n",
       "      <td>0</td>\n",
       "      <td>8.98</td>\n",
       "      <td>Hospitality</td>\n",
       "      <td>85874361</td>\n",
       "    </tr>\n",
       "    <tr>\n",
       "      <td>7</td>\n",
       "      <td>Free</td>\n",
       "      <td>0.00</td>\n",
       "      <td>0</td>\n",
       "      <td>0</td>\n",
       "      <td>0</td>\n",
       "      <td>0.00</td>\n",
       "      <td>Sports&amp;Entertainment</td>\n",
       "      <td>75262448</td>\n",
       "    </tr>\n",
       "    <tr>\n",
       "      <td>8</td>\n",
       "      <td>Personal</td>\n",
       "      <td>5.99</td>\n",
       "      <td>1</td>\n",
       "      <td>0</td>\n",
       "      <td>0</td>\n",
       "      <td>8.98</td>\n",
       "      <td>Transporation</td>\n",
       "      <td>21311343</td>\n",
       "    </tr>\n",
       "    <tr>\n",
       "      <td>9</td>\n",
       "      <td>Personal</td>\n",
       "      <td>5.99</td>\n",
       "      <td>0</td>\n",
       "      <td>1</td>\n",
       "      <td>1</td>\n",
       "      <td>16.97</td>\n",
       "      <td>Transporation</td>\n",
       "      <td>48653644</td>\n",
       "    </tr>\n",
       "  </tbody>\n",
       "</table>\n",
       "</div>"
      ],
      "text/plain": [
       "  subscriptionTier  monthlyBasePrice  AddOn_security  AddOn_calendar  \\\n",
       "0         Personal              5.99               0               0   \n",
       "1             Free              0.00               0               0   \n",
       "2         Personal              5.99               0               0   \n",
       "3             Free              0.00               0               0   \n",
       "4         Personal              5.99               0               0   \n",
       "5         Business             29.99               0               0   \n",
       "6         Personal              5.99               1               0   \n",
       "7             Free              0.00               0               0   \n",
       "8         Personal              5.99               1               0   \n",
       "9         Personal              5.99               0               1   \n",
       "\n",
       "   AddOn_4k  totalCosts              industry CustomerID  \n",
       "0         0        5.99         Transporation   27344551  \n",
       "1         0        0.00           Hospitality   71173642  \n",
       "2         0        5.99              Software   41222337  \n",
       "3         0        0.00             Education   23653446  \n",
       "4         0        5.99           Agriculture   63771418  \n",
       "5         0       29.99             Education   27266413  \n",
       "6         0        8.98           Hospitality   85874361  \n",
       "7         0        0.00  Sports&Entertainment   75262448  \n",
       "8         0        8.98         Transporation   21311343  \n",
       "9         1       16.97         Transporation   48653644  "
      ]
     },
     "execution_count": 34,
     "metadata": {},
     "output_type": "execute_result"
    }
   ],
   "source": [
    "# df = pd.DataFrame(dataset)\n",
    "# df.columns = columns\n",
    "# print(df.shape)\n",
    "df['CustomerID'] = [\"\".join([str(x) for x in np.random.randint(1, 9,size=8)]) for i in range(len(df))]\n",
    "df.head(10)"
   ]
  },
  {
   "cell_type": "code",
   "execution_count": 35,
   "metadata": {},
   "outputs": [
    {
     "data": {
      "text/plain": [
       "492728"
      ]
     },
     "execution_count": 35,
     "metadata": {},
     "output_type": "execute_result"
    }
   ],
   "source": [
    "df.CustomerID.nunique()"
   ]
  },
  {
   "cell_type": "code",
   "execution_count": 10,
   "metadata": {},
   "outputs": [
    {
     "data": {
      "text/plain": [
       "'/Users/matthewmitchell/Documents/Sophos/Facebook_Marketing_Analytics/Course2'"
      ]
     },
     "execution_count": 10,
     "metadata": {},
     "output_type": "execute_result"
    }
   ],
   "source": [
    "pwd"
   ]
  },
  {
   "cell_type": "code",
   "execution_count": 11,
   "metadata": {},
   "outputs": [],
   "source": [
    "df.to_csv(\"GeneratedFocusVu_CustomerData.csv\", index=False)"
   ]
  },
  {
   "cell_type": "code",
   "execution_count": 14,
   "metadata": {},
   "outputs": [
    {
     "data": {
      "text/plain": [
       "subscriptionTier\n",
       "Business    31.663306\n",
       "Free         1.689129\n",
       "Personal     7.678402\n",
       "Name: totalCosts, dtype: float64"
      ]
     },
     "execution_count": 14,
     "metadata": {},
     "output_type": "execute_result"
    }
   ],
   "source": [
    "df.groupby('subscriptionTier')['totalCosts'].mean()"
   ]
  },
  {
   "cell_type": "code",
   "execution_count": 16,
   "metadata": {},
   "outputs": [
    {
     "data": {
      "text/html": [
       "<div>\n",
       "<style scoped>\n",
       "    .dataframe tbody tr th:only-of-type {\n",
       "        vertical-align: middle;\n",
       "    }\n",
       "\n",
       "    .dataframe tbody tr th {\n",
       "        vertical-align: top;\n",
       "    }\n",
       "\n",
       "    .dataframe thead th {\n",
       "        text-align: right;\n",
       "    }\n",
       "</style>\n",
       "<table border=\"1\" class=\"dataframe\">\n",
       "  <thead>\n",
       "    <tr style=\"text-align: right;\">\n",
       "      <th></th>\n",
       "      <th>totalCosts</th>\n",
       "      <th>monthlyBasePrice</th>\n",
       "    </tr>\n",
       "    <tr>\n",
       "      <th>subscriptionTier</th>\n",
       "      <th></th>\n",
       "      <th></th>\n",
       "    </tr>\n",
       "  </thead>\n",
       "  <tbody>\n",
       "    <tr>\n",
       "      <td>Business</td>\n",
       "      <td>31.663306</td>\n",
       "      <td>29.99</td>\n",
       "    </tr>\n",
       "    <tr>\n",
       "      <td>Free</td>\n",
       "      <td>1.689129</td>\n",
       "      <td>0.00</td>\n",
       "    </tr>\n",
       "    <tr>\n",
       "      <td>Personal</td>\n",
       "      <td>7.678402</td>\n",
       "      <td>5.99</td>\n",
       "    </tr>\n",
       "  </tbody>\n",
       "</table>\n",
       "</div>"
      ],
      "text/plain": [
       "                  totalCosts  monthlyBasePrice\n",
       "subscriptionTier                              \n",
       "Business           31.663306             29.99\n",
       "Free                1.689129              0.00\n",
       "Personal            7.678402              5.99"
      ]
     },
     "execution_count": 16,
     "metadata": {},
     "output_type": "execute_result"
    }
   ],
   "source": [
    "df.groupby('subscriptionTier')[['totalCosts','monthlyBasePrice']].mean()"
   ]
  },
  {
   "cell_type": "code",
   "execution_count": 17,
   "metadata": {},
   "outputs": [
    {
     "data": {
      "text/plain": [
       "subscriptionTier\n",
       "Business    29.99\n",
       "Free         0.00\n",
       "Personal     5.99\n",
       "Name: totalCosts, dtype: float64"
      ]
     },
     "execution_count": 17,
     "metadata": {},
     "output_type": "execute_result"
    }
   ],
   "source": [
    "df.groupby('subscriptionTier')['totalCosts'].median()"
   ]
  },
  {
   "cell_type": "code",
   "execution_count": 18,
   "metadata": {},
   "outputs": [
    {
     "data": {
      "text/plain": [
       "subscriptionTier\n",
       "Business     49568\n",
       "Free        324395\n",
       "Personal    126037\n",
       "Name: totalCosts, dtype: int64"
      ]
     },
     "execution_count": 18,
     "metadata": {},
     "output_type": "execute_result"
    }
   ],
   "source": [
    "df.groupby('subscriptionTier')['totalCosts'].count()"
   ]
  },
  {
   "cell_type": "code",
   "execution_count": 19,
   "metadata": {},
   "outputs": [
    {
     "data": {
      "text/plain": [
       "subscriptionTier\n",
       "Business    1.569487e+06\n",
       "Free        5.479450e+05\n",
       "Personal    9.677628e+05\n",
       "Name: totalCosts, dtype: float64"
      ]
     },
     "execution_count": 19,
     "metadata": {},
     "output_type": "execute_result"
    }
   ],
   "source": [
    "df.groupby('subscriptionTier')['totalCosts'].sum()"
   ]
  },
  {
   "cell_type": "code",
   "execution_count": 20,
   "metadata": {},
   "outputs": [
    {
     "data": {
      "text/plain": [
       "subscriptionTier\n",
       "Business    29.99\n",
       "Free         0.00\n",
       "Personal     5.99\n",
       "Name: totalCosts, dtype: float64"
      ]
     },
     "execution_count": 20,
     "metadata": {},
     "output_type": "execute_result"
    }
   ],
   "source": [
    "df.groupby('subscriptionTier')['totalCosts'].min()"
   ]
  },
  {
   "cell_type": "code",
   "execution_count": 21,
   "metadata": {},
   "outputs": [
    {
     "data": {
      "text/plain": [
       "subscriptionTier\n",
       "Business    43.96\n",
       "Free        13.97\n",
       "Personal    19.96\n",
       "Name: totalCosts, dtype: float64"
      ]
     },
     "execution_count": 21,
     "metadata": {},
     "output_type": "execute_result"
    }
   ],
   "source": [
    "df.groupby('subscriptionTier')['totalCosts'].max()"
   ]
  },
  {
   "cell_type": "code",
   "execution_count": 22,
   "metadata": {},
   "outputs": [
    {
     "data": {
      "text/html": [
       "<div>\n",
       "<style scoped>\n",
       "    .dataframe tbody tr th:only-of-type {\n",
       "        vertical-align: middle;\n",
       "    }\n",
       "\n",
       "    .dataframe tbody tr th {\n",
       "        vertical-align: top;\n",
       "    }\n",
       "\n",
       "    .dataframe thead th {\n",
       "        text-align: right;\n",
       "    }\n",
       "</style>\n",
       "<table border=\"1\" class=\"dataframe\">\n",
       "  <thead>\n",
       "    <tr style=\"text-align: right;\">\n",
       "      <th></th>\n",
       "      <th>min</th>\n",
       "      <th>max</th>\n",
       "      <th>sum</th>\n",
       "      <th>mean</th>\n",
       "      <th>median</th>\n",
       "      <th>count</th>\n",
       "    </tr>\n",
       "    <tr>\n",
       "      <th>subscriptionTier</th>\n",
       "      <th></th>\n",
       "      <th></th>\n",
       "      <th></th>\n",
       "      <th></th>\n",
       "      <th></th>\n",
       "      <th></th>\n",
       "    </tr>\n",
       "  </thead>\n",
       "  <tbody>\n",
       "    <tr>\n",
       "      <td>Business</td>\n",
       "      <td>29.99</td>\n",
       "      <td>43.96</td>\n",
       "      <td>1.569487e+06</td>\n",
       "      <td>31.663306</td>\n",
       "      <td>29.99</td>\n",
       "      <td>49568</td>\n",
       "    </tr>\n",
       "    <tr>\n",
       "      <td>Free</td>\n",
       "      <td>0.00</td>\n",
       "      <td>13.97</td>\n",
       "      <td>5.479450e+05</td>\n",
       "      <td>1.689129</td>\n",
       "      <td>0.00</td>\n",
       "      <td>324395</td>\n",
       "    </tr>\n",
       "    <tr>\n",
       "      <td>Personal</td>\n",
       "      <td>5.99</td>\n",
       "      <td>19.96</td>\n",
       "      <td>9.677628e+05</td>\n",
       "      <td>7.678402</td>\n",
       "      <td>5.99</td>\n",
       "      <td>126037</td>\n",
       "    </tr>\n",
       "  </tbody>\n",
       "</table>\n",
       "</div>"
      ],
      "text/plain": [
       "                    min    max           sum       mean  median   count\n",
       "subscriptionTier                                                       \n",
       "Business          29.99  43.96  1.569487e+06  31.663306   29.99   49568\n",
       "Free               0.00  13.97  5.479450e+05   1.689129    0.00  324395\n",
       "Personal           5.99  19.96  9.677628e+05   7.678402    5.99  126037"
      ]
     },
     "execution_count": 22,
     "metadata": {},
     "output_type": "execute_result"
    }
   ],
   "source": [
    "df.groupby('subscriptionTier')['totalCosts'].agg(['min','max','sum',\n",
    "                                                  'mean','median','count'])"
   ]
  },
  {
   "cell_type": "code",
   "execution_count": 40,
   "metadata": {},
   "outputs": [
    {
     "data": {
      "text/plain": [
       "subscriptionTier\n",
       "Business    31.663306\n",
       "Free         1.689129\n",
       "Personal     7.678402\n",
       "Name: totalCosts, dtype: float64"
      ]
     },
     "execution_count": 40,
     "metadata": {},
     "output_type": "execute_result"
    }
   ],
   "source": [
    "df.groupby('subscriptionTier')['totalCosts'].mean()"
   ]
  },
  {
   "cell_type": "code",
   "execution_count": null,
   "metadata": {},
   "outputs": [],
   "source": []
  },
  {
   "cell_type": "code",
   "execution_count": 37,
   "metadata": {},
   "outputs": [
    {
     "data": {
      "text/html": [
       "<div>\n",
       "<style scoped>\n",
       "    .dataframe tbody tr th:only-of-type {\n",
       "        vertical-align: middle;\n",
       "    }\n",
       "\n",
       "    .dataframe tbody tr th {\n",
       "        vertical-align: top;\n",
       "    }\n",
       "\n",
       "    .dataframe thead tr th {\n",
       "        text-align: left;\n",
       "    }\n",
       "\n",
       "    .dataframe thead tr:last-of-type th {\n",
       "        text-align: right;\n",
       "    }\n",
       "</style>\n",
       "<table border=\"1\" class=\"dataframe\">\n",
       "  <thead>\n",
       "    <tr>\n",
       "      <th></th>\n",
       "      <th colspan=\"6\" halign=\"left\">totalCosts</th>\n",
       "      <th colspan=\"6\" halign=\"left\">monthlyBasePrice</th>\n",
       "    </tr>\n",
       "    <tr>\n",
       "      <th></th>\n",
       "      <th>min</th>\n",
       "      <th>max</th>\n",
       "      <th>sum</th>\n",
       "      <th>mean</th>\n",
       "      <th>median</th>\n",
       "      <th>count</th>\n",
       "      <th>min</th>\n",
       "      <th>max</th>\n",
       "      <th>sum</th>\n",
       "      <th>mean</th>\n",
       "      <th>median</th>\n",
       "      <th>count</th>\n",
       "    </tr>\n",
       "    <tr>\n",
       "      <th>subscriptionTier</th>\n",
       "      <th></th>\n",
       "      <th></th>\n",
       "      <th></th>\n",
       "      <th></th>\n",
       "      <th></th>\n",
       "      <th></th>\n",
       "      <th></th>\n",
       "      <th></th>\n",
       "      <th></th>\n",
       "      <th></th>\n",
       "      <th></th>\n",
       "      <th></th>\n",
       "    </tr>\n",
       "  </thead>\n",
       "  <tbody>\n",
       "    <tr>\n",
       "      <td>Business</td>\n",
       "      <td>29.99</td>\n",
       "      <td>43.96</td>\n",
       "      <td>1.569487e+06</td>\n",
       "      <td>31.663306</td>\n",
       "      <td>29.99</td>\n",
       "      <td>49568</td>\n",
       "      <td>29.99</td>\n",
       "      <td>29.99</td>\n",
       "      <td>1.486544e+06</td>\n",
       "      <td>29.99</td>\n",
       "      <td>29.99</td>\n",
       "      <td>49568</td>\n",
       "    </tr>\n",
       "    <tr>\n",
       "      <td>Free</td>\n",
       "      <td>0.00</td>\n",
       "      <td>13.97</td>\n",
       "      <td>5.479450e+05</td>\n",
       "      <td>1.689129</td>\n",
       "      <td>0.00</td>\n",
       "      <td>324395</td>\n",
       "      <td>0.00</td>\n",
       "      <td>0.00</td>\n",
       "      <td>0.000000e+00</td>\n",
       "      <td>0.00</td>\n",
       "      <td>0.00</td>\n",
       "      <td>324395</td>\n",
       "    </tr>\n",
       "    <tr>\n",
       "      <td>Personal</td>\n",
       "      <td>5.99</td>\n",
       "      <td>19.96</td>\n",
       "      <td>9.677628e+05</td>\n",
       "      <td>7.678402</td>\n",
       "      <td>5.99</td>\n",
       "      <td>126037</td>\n",
       "      <td>5.99</td>\n",
       "      <td>5.99</td>\n",
       "      <td>7.549616e+05</td>\n",
       "      <td>5.99</td>\n",
       "      <td>5.99</td>\n",
       "      <td>126037</td>\n",
       "    </tr>\n",
       "  </tbody>\n",
       "</table>\n",
       "</div>"
      ],
      "text/plain": [
       "                 totalCosts                                                 \\\n",
       "                        min    max           sum       mean median   count   \n",
       "subscriptionTier                                                             \n",
       "Business              29.99  43.96  1.569487e+06  31.663306  29.99   49568   \n",
       "Free                   0.00  13.97  5.479450e+05   1.689129   0.00  324395   \n",
       "Personal               5.99  19.96  9.677628e+05   7.678402   5.99  126037   \n",
       "\n",
       "                 monthlyBasePrice                                             \n",
       "                              min    max           sum   mean median   count  \n",
       "subscriptionTier                                                              \n",
       "Business                    29.99  29.99  1.486544e+06  29.99  29.99   49568  \n",
       "Free                         0.00   0.00  0.000000e+00   0.00   0.00  324395  \n",
       "Personal                     5.99   5.99  7.549616e+05   5.99   5.99  126037  "
      ]
     },
     "execution_count": 37,
     "metadata": {},
     "output_type": "execute_result"
    }
   ],
   "source": [
    "df.groupby('subscriptionTier')[['totalCosts','monthlyBasePrice']].agg(['min','max','sum',\n",
    "                                                                       'mean','median','count'])"
   ]
  },
  {
   "cell_type": "code",
   "execution_count": 39,
   "metadata": {},
   "outputs": [
    {
     "data": {
      "text/html": [
       "<div>\n",
       "<style scoped>\n",
       "    .dataframe tbody tr th:only-of-type {\n",
       "        vertical-align: middle;\n",
       "    }\n",
       "\n",
       "    .dataframe tbody tr th {\n",
       "        vertical-align: top;\n",
       "    }\n",
       "\n",
       "    .dataframe thead th {\n",
       "        text-align: right;\n",
       "    }\n",
       "</style>\n",
       "<table border=\"1\" class=\"dataframe\">\n",
       "  <thead>\n",
       "    <tr style=\"text-align: right;\">\n",
       "      <th></th>\n",
       "      <th>monthlyBasePrice</th>\n",
       "      <th>AddOn_security</th>\n",
       "      <th>AddOn_calendar</th>\n",
       "      <th>AddOn_4k</th>\n",
       "      <th>totalCosts</th>\n",
       "    </tr>\n",
       "    <tr>\n",
       "      <th>subscriptionTier</th>\n",
       "      <th></th>\n",
       "      <th></th>\n",
       "      <th></th>\n",
       "      <th></th>\n",
       "      <th></th>\n",
       "    </tr>\n",
       "  </thead>\n",
       "  <tbody>\n",
       "    <tr>\n",
       "      <td>Business</td>\n",
       "      <td>29.99</td>\n",
       "      <td>0.198515</td>\n",
       "      <td>0.100569</td>\n",
       "      <td>0.097502</td>\n",
       "      <td>31.663306</td>\n",
       "    </tr>\n",
       "    <tr>\n",
       "      <td>Free</td>\n",
       "      <td>0.00</td>\n",
       "      <td>0.199787</td>\n",
       "      <td>0.099336</td>\n",
       "      <td>0.099468</td>\n",
       "      <td>1.689129</td>\n",
       "    </tr>\n",
       "    <tr>\n",
       "      <td>Personal</td>\n",
       "      <td>5.99</td>\n",
       "      <td>0.201544</td>\n",
       "      <td>0.099598</td>\n",
       "      <td>0.098622</td>\n",
       "      <td>7.678402</td>\n",
       "    </tr>\n",
       "  </tbody>\n",
       "</table>\n",
       "</div>"
      ],
      "text/plain": [
       "                  monthlyBasePrice  AddOn_security  AddOn_calendar  AddOn_4k  \\\n",
       "subscriptionTier                                                               \n",
       "Business                     29.99        0.198515        0.100569  0.097502   \n",
       "Free                          0.00        0.199787        0.099336  0.099468   \n",
       "Personal                      5.99        0.201544        0.099598  0.098622   \n",
       "\n",
       "                  totalCosts  \n",
       "subscriptionTier              \n",
       "Business           31.663306  \n",
       "Free                1.689129  \n",
       "Personal            7.678402  "
      ]
     },
     "execution_count": 39,
     "metadata": {},
     "output_type": "execute_result"
    }
   ],
   "source": [
    "df.groupby('subscriptionTier').mean()"
   ]
  },
  {
   "cell_type": "code",
   "execution_count": 43,
   "metadata": {},
   "outputs": [
    {
     "data": {
      "text/plain": [
       "totalCosts\n",
       "0.00     FreeFreeFreeFreeFreeFreeFreeFreeFreeFreeFreeFr...\n",
       "2.99     FreeFreeFreeFreeFreeFreeFreeFreeFreeFreeFreeFr...\n",
       "5.98     FreeFreeFreeFreeFreeFreeFreeFreeFreeFreeFreeFr...\n",
       "5.99     PersonalPersonalPersonalPersonalPersonalPerson...\n",
       "7.99     FreeFreeFreeFreeFreeFreeFreeFreeFreeFreeFreeFr...\n",
       "8.98     PersonalPersonalPersonalPersonalPersonalPerson...\n",
       "10.98    FreeFreeFreeFreeFreeFreeFreeFreeFreeFreeFreeFr...\n",
       "11.97    PersonalPersonalPersonalPersonalPersonalPerson...\n",
       "13.97    FreeFreeFreeFreeFreeFreeFreeFreeFreeFreeFreeFr...\n",
       "13.98    PersonalPersonalPersonalPersonalPersonalPerson...\n",
       "16.97    PersonalPersonalPersonalPersonalPersonalPerson...\n",
       "19.96    PersonalPersonalPersonalPersonalPersonalPerson...\n",
       "29.99    BusinessBusinessBusinessBusinessBusinessBusine...\n",
       "32.98    BusinessBusinessBusinessBusinessBusinessBusine...\n",
       "35.97    BusinessBusinessBusinessBusinessBusinessBusine...\n",
       "37.98    BusinessBusinessBusinessBusinessBusinessBusine...\n",
       "40.97    BusinessBusinessBusinessBusinessBusinessBusine...\n",
       "43.96    BusinessBusinessBusinessBusinessBusinessBusine...\n",
       "Name: subscriptionTier, dtype: object"
      ]
     },
     "execution_count": 43,
     "metadata": {},
     "output_type": "execute_result"
    }
   ],
   "source": [
    "df.groupby(['subscriptionTier', 'totalCosts']).sum()"
   ]
  },
  {
   "cell_type": "code",
   "execution_count": 46,
   "metadata": {},
   "outputs": [
    {
     "name": "stdout",
     "output_type": "stream",
     "text": [
      "Collecting pandasql\n",
      "  Downloading https://files.pythonhosted.org/packages/6b/c4/ee4096ffa2eeeca0c749b26f0371bd26aa5c8b611c43de99a4f86d3de0a7/pandasql-0.7.3.tar.gz\n",
      "Requirement already satisfied: numpy in /Users/matthewmitchell/anaconda3/lib/python3.7/site-packages (from pandasql) (1.17.2)\n",
      "Requirement already satisfied: pandas in /Users/matthewmitchell/anaconda3/lib/python3.7/site-packages (from pandasql) (0.25.1)\n",
      "Requirement already satisfied: sqlalchemy in /Users/matthewmitchell/anaconda3/lib/python3.7/site-packages (from pandasql) (0.9.8)\n",
      "Requirement already satisfied: python-dateutil>=2.6.1 in /Users/matthewmitchell/anaconda3/lib/python3.7/site-packages (from pandas->pandasql) (2.8.0)\n",
      "Requirement already satisfied: pytz>=2017.2 in /Users/matthewmitchell/anaconda3/lib/python3.7/site-packages (from pandas->pandasql) (2019.3)\n",
      "Requirement already satisfied: six>=1.5 in /Users/matthewmitchell/anaconda3/lib/python3.7/site-packages (from python-dateutil>=2.6.1->pandas->pandasql) (1.12.0)\n",
      "Building wheels for collected packages: pandasql\n",
      "  Building wheel for pandasql (setup.py) ... \u001b[?25ldone\n",
      "\u001b[?25h  Created wheel for pandasql: filename=pandasql-0.7.3-cp37-none-any.whl size=26820 sha256=860c9f1b3e69fd4680fc8e015036fc52ac0d3d96cb72160f41d08558c7d85d21\n",
      "  Stored in directory: /Users/matthewmitchell/Library/Caches/pip/wheels/53/6c/18/b87a2e5fa8a82e9c026311de56210b8d1c01846e18a9607fc9\n",
      "Successfully built pandasql\n",
      "Installing collected packages: pandasql\n",
      "Successfully installed pandasql-0.7.3\n"
     ]
    }
   ],
   "source": [
    "!pip install pandasql"
   ]
  },
  {
   "cell_type": "code",
   "execution_count": 47,
   "metadata": {},
   "outputs": [],
   "source": [
    "from pandasql import sqldf"
   ]
  },
  {
   "cell_type": "code",
   "execution_count": 49,
   "metadata": {},
   "outputs": [],
   "source": [
    "pysqldf = lambda q: sqldf(q, globals())"
   ]
  },
  {
   "cell_type": "code",
   "execution_count": 50,
   "metadata": {},
   "outputs": [
    {
     "data": {
      "text/html": [
       "<div>\n",
       "<style scoped>\n",
       "    .dataframe tbody tr th:only-of-type {\n",
       "        vertical-align: middle;\n",
       "    }\n",
       "\n",
       "    .dataframe tbody tr th {\n",
       "        vertical-align: top;\n",
       "    }\n",
       "\n",
       "    .dataframe thead th {\n",
       "        text-align: right;\n",
       "    }\n",
       "</style>\n",
       "<table border=\"1\" class=\"dataframe\">\n",
       "  <thead>\n",
       "    <tr style=\"text-align: right;\">\n",
       "      <th></th>\n",
       "      <th>subscriptionTier</th>\n",
       "      <th>count(*)</th>\n",
       "    </tr>\n",
       "  </thead>\n",
       "  <tbody>\n",
       "    <tr>\n",
       "      <td>0</td>\n",
       "      <td>Business</td>\n",
       "      <td>49568</td>\n",
       "    </tr>\n",
       "    <tr>\n",
       "      <td>1</td>\n",
       "      <td>Free</td>\n",
       "      <td>324395</td>\n",
       "    </tr>\n",
       "    <tr>\n",
       "      <td>2</td>\n",
       "      <td>Personal</td>\n",
       "      <td>126037</td>\n",
       "    </tr>\n",
       "  </tbody>\n",
       "</table>\n",
       "</div>"
      ],
      "text/plain": [
       "  subscriptionTier  count(*)\n",
       "0         Business     49568\n",
       "1             Free    324395\n",
       "2         Personal    126037"
      ]
     },
     "execution_count": 50,
     "metadata": {},
     "output_type": "execute_result"
    }
   ],
   "source": [
    "q = \"\"\"Select subscriptionTier,\n",
    "              count(*)\n",
    "              from df\n",
    "              group by subscriptionTier;\"\"\"\n",
    "pysqldf(q)"
   ]
  },
  {
   "cell_type": "code",
   "execution_count": 53,
   "metadata": {},
   "outputs": [
    {
     "data": {
      "text/html": [
       "<div>\n",
       "<style scoped>\n",
       "    .dataframe tbody tr th:only-of-type {\n",
       "        vertical-align: middle;\n",
       "    }\n",
       "\n",
       "    .dataframe tbody tr th {\n",
       "        vertical-align: top;\n",
       "    }\n",
       "\n",
       "    .dataframe thead th {\n",
       "        text-align: right;\n",
       "    }\n",
       "</style>\n",
       "<table border=\"1\" class=\"dataframe\">\n",
       "  <thead>\n",
       "    <tr style=\"text-align: right;\">\n",
       "      <th></th>\n",
       "      <th>subscriptionTier</th>\n",
       "      <th>count(*)</th>\n",
       "    </tr>\n",
       "  </thead>\n",
       "  <tbody>\n",
       "    <tr>\n",
       "      <td>0</td>\n",
       "      <td>Business</td>\n",
       "      <td>49568</td>\n",
       "    </tr>\n",
       "    <tr>\n",
       "      <td>1</td>\n",
       "      <td>Free</td>\n",
       "      <td>324395</td>\n",
       "    </tr>\n",
       "    <tr>\n",
       "      <td>2</td>\n",
       "      <td>Personal</td>\n",
       "      <td>126037</td>\n",
       "    </tr>\n",
       "  </tbody>\n",
       "</table>\n",
       "</div>"
      ],
      "text/plain": [
       "  subscriptionTier  count(*)\n",
       "0         Business     49568\n",
       "1             Free    324395\n",
       "2         Personal    126037"
      ]
     },
     "execution_count": 53,
     "metadata": {},
     "output_type": "execute_result"
    }
   ],
   "source": [
    "sqldf(q)"
   ]
  },
  {
   "cell_type": "code",
   "execution_count": 51,
   "metadata": {},
   "outputs": [
    {
     "data": {
      "text/plain": [
       "500000"
      ]
     },
     "execution_count": 51,
     "metadata": {},
     "output_type": "execute_result"
    }
   ],
   "source": [
    "len(df)"
   ]
  },
  {
   "cell_type": "code",
   "execution_count": 52,
   "metadata": {},
   "outputs": [
    {
     "data": {
      "text/plain": [
       "Free        324395\n",
       "Personal    126037\n",
       "Business     49568\n",
       "Name: subscriptionTier, dtype: int64"
      ]
     },
     "execution_count": 52,
     "metadata": {},
     "output_type": "execute_result"
    }
   ],
   "source": [
    "df.subscriptionTier.value_counts()"
   ]
  },
  {
   "cell_type": "code",
   "execution_count": 56,
   "metadata": {},
   "outputs": [
    {
     "data": {
      "text/html": [
       "<div>\n",
       "<style scoped>\n",
       "    .dataframe tbody tr th:only-of-type {\n",
       "        vertical-align: middle;\n",
       "    }\n",
       "\n",
       "    .dataframe tbody tr th {\n",
       "        vertical-align: top;\n",
       "    }\n",
       "\n",
       "    .dataframe thead th {\n",
       "        text-align: right;\n",
       "    }\n",
       "</style>\n",
       "<table border=\"1\" class=\"dataframe\">\n",
       "  <thead>\n",
       "    <tr style=\"text-align: right;\">\n",
       "      <th></th>\n",
       "      <th>sum(AddOn_security)</th>\n",
       "      <th>sum(AddOn_calendar)</th>\n",
       "      <th>sum(AddOn_4k)</th>\n",
       "    </tr>\n",
       "  </thead>\n",
       "  <tbody>\n",
       "    <tr>\n",
       "      <td>0</td>\n",
       "      <td>64810</td>\n",
       "      <td>32224</td>\n",
       "      <td>32267</td>\n",
       "    </tr>\n",
       "  </tbody>\n",
       "</table>\n",
       "</div>"
      ],
      "text/plain": [
       "   sum(AddOn_security)  sum(AddOn_calendar)  sum(AddOn_4k)\n",
       "0                64810                32224          32267"
      ]
     },
     "execution_count": 56,
     "metadata": {},
     "output_type": "execute_result"
    }
   ],
   "source": [
    "q = \"\"\"select sum(AddOn_security),\n",
    "              sum(AddOn_calendar),\n",
    "              sum(AddOn_4k)\n",
    "              from df\n",
    "              where subscriptionTier = 'Free';\"\"\"\n",
    "sqldf(q)"
   ]
  },
  {
   "cell_type": "code",
   "execution_count": null,
   "metadata": {},
   "outputs": [],
   "source": []
  }
 ],
 "metadata": {
  "kernelspec": {
   "display_name": "Python 3",
   "language": "python",
   "name": "python3"
  },
  "language_info": {
   "codemirror_mode": {
    "name": "ipython",
    "version": 3
   },
   "file_extension": ".py",
   "mimetype": "text/x-python",
   "name": "python",
   "nbconvert_exporter": "python",
   "pygments_lexer": "ipython3",
   "version": "3.7.4"
  }
 },
 "nbformat": 4,
 "nbformat_minor": 2
}
